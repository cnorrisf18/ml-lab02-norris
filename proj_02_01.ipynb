{
 "cells": [
  {
   "cell_type": "code",
   "execution_count": 2,
   "metadata": {
    "scrolled": true
   },
   "outputs": [
    {
     "name": "stdout",
     "output_type": "stream",
     "text": [
      "woah\n"
     ]
    }
   ],
   "source": [
    "import numpy as np\n",
    "print(\"woah\")\n"
   ]
  },
  {
   "cell_type": "markdown",
   "metadata": {},
   "source": [
    "# Here we go!\n",
    "## woah this is cool\n",
    "We're getting started with Jupyter!\n",
    "\n",
    "$$ x^2 = \\sqrt(y) $$\n",
    "\n",
    "have some **bold text**\n",
    "\n",
    "\n",
    "or some \n",
    "*fancy text*\n",
    "\n",
    "List of fun things:\n",
    "1. Reading\n",
    "2. Playing Games\n",
    "3. Programming!"
   ]
  },
  {
   "cell_type": "code",
   "execution_count": null,
   "metadata": {},
   "outputs": [],
   "source": []
  }
 ],
 "metadata": {
  "kernelspec": {
   "display_name": "Python 3",
   "language": "python",
   "name": "python3"
  },
  "language_info": {
   "codemirror_mode": {
    "name": "ipython",
    "version": 3
   },
   "file_extension": ".py",
   "mimetype": "text/x-python",
   "name": "python",
   "nbconvert_exporter": "python",
   "pygments_lexer": "ipython3",
   "version": "3.7.4"
  }
 },
 "nbformat": 4,
 "nbformat_minor": 2
}
