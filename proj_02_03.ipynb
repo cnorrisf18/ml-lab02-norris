{
 "cells": [
  {
   "cell_type": "markdown",
   "metadata": {},
   "source": [
    "# 02.03 Vectors and Matrices\n",
    "\n",
    "- dot product of two vectors. \n",
    "- matrix multiplication and dimensionality\n",
    "- element wise multiplication with a \"scalar\" and a vector\n"
   ]
  },
  {
   "cell_type": "code",
   "execution_count": 1,
   "metadata": {},
   "outputs": [],
   "source": [
    "import numpy as np"
   ]
  },
  {
   "cell_type": "markdown",
   "metadata": {},
   "source": [
    "#### --> 1. Create Vectors\n",
    "* Make a vector (1d array) of 1 to 5 using np.arange\n",
    "* Make another vector (1d array) of 2,4,6,8,10 using np.linspace\n",
    "* print each vector\n",
    "\n",
    "**Double Click Here for answer**\n",
    "<!--\n",
    "a1 = np.arange(1,6)\n",
    "a2 = np.linspace(2,10,5)\n",
    "print(\"a1 is: \", a1)\n",
    "print(\"a2 is: \", a2)\n",
    "-->\n"
   ]
  },
  {
   "cell_type": "code",
   "execution_count": 2,
   "metadata": {},
   "outputs": [
    {
     "name": "stdout",
     "output_type": "stream",
     "text": [
      "a1 is:  [1 2 3 4 5]\n",
      "a2 is:  [ 2.  4.  6.  8. 10.]\n"
     ]
    }
   ],
   "source": [
    "a1 = np.arange(1,6)\n",
    "a2 = np.linspace(2,10,5)\n",
    "print(\"a1 is: \", a1)\n",
    "print(\"a2 is: \", a2)"
   ]
  },
  {
   "cell_type": "markdown",
   "metadata": {},
   "source": [
    "### Elementwise multiplication\n",
    "The * operator does elementwise multiplication.  \n",
    "\n",
    "*Note that Octave uses .* for elementwise multiplication.*\n",
    "\n",
    "#### --> 2. Check this out by multiplying your two vectors.\n"
   ]
  },
  {
   "cell_type": "code",
   "execution_count": 3,
   "metadata": {},
   "outputs": [
    {
     "data": {
      "text/plain": [
       "array([ 2.,  8., 18., 32., 50.])"
      ]
     },
     "execution_count": 3,
     "metadata": {},
     "output_type": "execute_result"
    }
   ],
   "source": [
    "a1 * a2"
   ]
  },
  {
   "cell_type": "markdown",
   "metadata": {},
   "source": [
    "### Dot product\n",
    "The dot product, or matrix multiplication, multiplies two matrices together.\n",
    "\n",
    "The dot product is the sum of the products of each corresponding element.  Very useful if you have a sum of products in math notation!  E.g. when you see:\n",
    "\n",
    "$$\\sum_{i=1}^{100} x_i * y_i $$\n",
    "\n",
    "You should think \"Vectorize!\"\n",
    "\n",
    "*The dot function works like Octave *  (dot product / matrix multiplication)*\n",
    "\n",
    "#### --> 3.  Try dot product.\n",
    "> try np.dot( yourarray1,  yourarray2)   \n",
    "    \n",
    "> try  yourarray1  @  yourarray2 - the @ operator is the same as np.dot\n",
    "    \n",
    "**Double Click Here for answer**\n",
    "<!--\n",
    "print(np.dot(a1,a2))\n",
    "print(a1 @ a2)\n",
    "-->\n",
    "\n"
   ]
  },
  {
   "cell_type": "code",
   "execution_count": 4,
   "metadata": {},
   "outputs": [
    {
     "name": "stdout",
     "output_type": "stream",
     "text": [
      "110.0\n",
      "110.0\n"
     ]
    }
   ],
   "source": [
    "print(np.dot(a1, a2))  # with np.dot\n",
    "print(a1 @ a2 )  # with @"
   ]
  },
  {
   "cell_type": "markdown",
   "metadata": {},
   "source": [
    "## Matrix Multiplication\n",
    "\n",
    "Dot product and matrix multiplication are the same as long as you view dot product as multiplying a 1xn vector with a nx1 vector (i.e. you may need to transpose).\n",
    "\n",
    "But NumPy handles that transpose for you if you should try that.\n",
    "\n",
    "#### --> 4.  Multiply matrices\n",
    "\n",
    "* Make a1 that's 1 by 4 with the np.arange function\n",
    "* Make a2 that's  4 by 2 of counts, using the np.array constructor: [[1,2],[3,4],[5,6],[7,8]]\n",
    "* Multiply a1 and a2 using the @ operator.\n",
    "\n",
    "The inner dimensions must match.  The result is the outer dimensions...\n",
    "\n",
    "You should get a 1x2 that's `[50, 60]`\n",
    "\n",
    "**Double Click Here for answer**\n",
    "<!--\n",
    "a1 = np.arange(1,5)\n",
    "a2 = np.array( [[1,2],[3,4],[5,6],[7,8]] )\n",
    "a1 @ a2\n",
    "-->\n"
   ]
  },
  {
   "cell_type": "code",
   "execution_count": 9,
   "metadata": {},
   "outputs": [
    {
     "data": {
      "text/plain": [
       "array([50, 60])"
      ]
     },
     "execution_count": 9,
     "metadata": {},
     "output_type": "execute_result"
    }
   ],
   "source": [
    "a1 = np.arange(1,5)\n",
    "a2 = np.array([[1,2],[3,4],[5,6],[7,8]])\n",
    "a1 @ a2\n"
   ]
  },
  {
   "cell_type": "markdown",
   "metadata": {},
   "source": [
    "\n",
    "\n",
    "What kind of error do you get if you try to multiply mismatched matrices?  Give it a try by swapping the order of a1 and a2.\n",
    "\n",
    "#### --> 5. Try / Except to catch error in NumPy\n",
    "See if you can use a try / except block to catch the right kind of error.\n",
    "\n",
    "```\n",
    "\n",
    "try:\n",
    "    . . . \n",
    "    something\n",
    "    . . .\n",
    "except *Exception Type*  as e:\n",
    "    . . .\n",
    "    handle the errror\n",
    "    print(\"Error in dimensions \" + str(e))\n",
    "```\n",
    "\n",
    "**Double Click Here for answer**\n",
    "<!--\n",
    "print('a2 is ', a2.shape, ' but a1 is ', a1.shape)\n",
    "\n",
    "try:\n",
    "    result = a2 @ a1\n",
    "except ValueError as e:\n",
    "    result = None\n",
    "    print(\"Error in dimensions \\n\" + str(e))\n",
    "-->\n",
    "\n",
    "\n"
   ]
  },
  {
   "cell_type": "code",
   "execution_count": 10,
   "metadata": {},
   "outputs": [
    {
     "name": "stdout",
     "output_type": "stream",
     "text": [
      "Error in dimensions matmul: Input operand 1 has a mismatch in its core dimension 0, with gufunc signature (n?,k),(k,m?)->(n?,m?) (size 2 is different from 4)\n"
     ]
    }
   ],
   "source": [
    "a3 = np.transpose(a2)\n",
    "try:\n",
    "    result = a1 @ a3\n",
    "except ValueError as e:\n",
    "    result = none\n",
    "    print(\"Error in dimensions \" + str(e))"
   ]
  },
  {
   "cell_type": "code",
   "execution_count": 11,
   "metadata": {
    "scrolled": true
   },
   "outputs": [
    {
     "name": "stdout",
     "output_type": "stream",
     "text": [
      "a2 is  (4, 2)  but a1 is  (4,)\n"
     ]
    }
   ],
   "source": [
    "print('a2 is ', a2.shape, ' but a1 is ', a1.shape)\n"
   ]
  },
  {
   "cell_type": "markdown",
   "metadata": {},
   "source": [
    "# Using Dot Product and Multiplication\n",
    "\n",
    "Let's walk through an actual example with data, so you can see how to use matrix multiplication usefully to do something practical.\n",
    "\n",
    "This is an important example because it illustrates the singularly most important concept of all of mathematics.  Dude.  Really?  Yes.  That concept is **abstraction** - the ability to encapsulate meaning in symbols, and then figure out a way to work with those symbols with symbol tools.  And then take the results back to get new meaning.\n",
    "\n",
    "Dude.\n",
    "\n",
    "### The problem - Fruit ###\n",
    "Bananas, apples, and pears are sold at 0.25 cents,  0.80 cents, and 0.60 cents each.  50 people are going to each buy different amounts.    How much does each person spend?\n",
    "\n",
    "> Abstraction step.  Let's represent what each person spends as a vector. So `[1,3,4]` would mean one banana, 3 apples, 4 pears.\n",
    "\n",
    "#### --> 6. Create an array, `orders` , of random orders for 50 people.  A 50x3 array.  Also create the prices array, a 1x3 array.\n",
    "\n",
    "Let's suppose someone may order between 0 and 4 of each fruit. Up to but not including 5.\n",
    "\n",
    "```\n",
    "orders = ???\n",
    "prices = ???\n",
    "\n",
    "```\n",
    "\n",
    "**Double Click Here for answer**\n",
    "<!--\n",
    "###\n",
    "\n",
    "# Randomize orders for 50 people\n",
    "orders = np.random.randint( 5, size=(50,3) )\n",
    "\n",
    "#Let's set the prices…\n",
    "prices = np.array( [0.25, 0.80, 0.60] )\n",
    "-->\n",
    "\n"
   ]
  },
  {
   "cell_type": "code",
   "execution_count": 22,
   "metadata": {},
   "outputs": [],
   "source": [
    "orders = np.random.randint(0,5, size = (50,3))\n",
    "prices = np.array([.25,.80,.60])\n",
    "\n",
    "\n",
    "\n",
    "\n"
   ]
  },
  {
   "cell_type": "markdown",
   "metadata": {},
   "source": [
    "\n",
    "How much does each person spend?\n",
    "\n",
    "Note that with NumPy Arrays, as you can see, you use `[row, colunn]` to get at a value in there rather than the Python List way of `somelist[row][column]`\n",
    "\n",
    "\n",
    "#### --> 7. Iterative solution\n",
    "\n",
    "Naive way first.  Write a for loop to step through the people, and multiply each person's orders by the prices, to get an amount for each person.\n",
    "\n",
    "*You'll need to initialize the amounts to zero.\n",
    "*You'll need a for loop to step over each `person` with `range(len(amount))`  or you can also use `range(len(orders))`\n",
    "*You'll need to calcualte `amount[person]` by multiplying the amount of bananas, `orders[person,0]` with the price of bananas `prices[0]`\n",
    "\n",
    "\n",
    "**Double Click Here for answer**\n",
    "<!--\n",
    "amount = np.zeros(50)\n",
    "for person in range(len(amount)):\n",
    "    amount[person] = orders[person,0] * prices[0] + \\\n",
    "                     orders[person,1] * prices[1] +  \\\n",
    "                     orders[person,2] * prices[2]\n",
    "\n",
    "-->\n",
    "\n"
   ]
  },
  {
   "cell_type": "code",
   "execution_count": 17,
   "metadata": {},
   "outputs": [
    {
     "data": {
      "text/plain": [
       "50"
      ]
     },
     "execution_count": 17,
     "metadata": {},
     "output_type": "execute_result"
    }
   ],
   "source": [
    "len(orders)"
   ]
  },
  {
   "cell_type": "code",
   "execution_count": 24,
   "metadata": {},
   "outputs": [
    {
     "name": "stdout",
     "output_type": "stream",
     "text": [
      "Person...\t  1 2 3 4 5\n",
      "Num Bananas: \t [0 1 0 0 2]\n",
      "Num Apples:  \t [0 4 0 1 2]\n",
      "Num Pears:   \t [1 1 0 3 3]\n",
      "Amounts: \t [[0.6 ]\n",
      " [4.05]\n",
      " [0.  ]\n",
      " [2.6 ]\n",
      " [3.9 ]]\n"
     ]
    }
   ],
   "source": [
    "# your code here.\n",
    "\n",
    "amount = np.empty((50,1))\n",
    "for person in range(len(orders)):\n",
    "    amount[person] = orders[person,] @ prices\n",
    "    \n",
    "# Look I made a cute little table printer.  You can define functions in JN.\n",
    "# IMPORTANT:  Observe how I can slice out the top 5 rows, with the columns.\n",
    "#  Challenge:  parameterize this function. So that orders and amount are paramters you pass in.\n",
    "#  Extra Challenge:  Make the parameterization include the fruit names, \n",
    "#     and not even dependent on the number of fruits.\n",
    "def printAmounts():\n",
    "    print(\"Person...\\t  1 2 3 4 5\")\n",
    "    print(\"Num Bananas: \\t\", orders[0:5,0])\n",
    "    print(\"Num Apples:  \\t\", orders[0:5,1])\n",
    "    print(\"Num Pears:   \\t\", orders[0:5,2])\n",
    "\n",
    "    print(\"Amounts: \\t\",amount[0:5])\n",
    "\n",
    "printAmounts()"
   ]
  },
  {
   "cell_type": "markdown",
   "metadata": {},
   "source": [
    "\n",
    "Hold on.  Each inner assignment looks like a dot product, to me.\n",
    "\n",
    "#### --> 8. Replace the inside of the for loop above with a dot product between `orders[person]` and `prices`\n",
    "\n",
    "**Double Click Here for answer**\n",
    "<!--\n",
    "amount = np.zeros(50)\n",
    "for person in range(len(amount)):\n",
    "    amount[person] = orders[person] @ prices\n",
    "-->\n",
    "\n"
   ]
  },
  {
   "cell_type": "code",
   "execution_count": 25,
   "metadata": {},
   "outputs": [
    {
     "name": "stdout",
     "output_type": "stream",
     "text": [
      "Person...\t  1 2 3 4 5\n",
      "Num Bananas: \t [0 1 0 0 2]\n",
      "Num Apples:  \t [0 4 0 1 2]\n",
      "Num Pears:   \t [1 1 0 3 3]\n",
      "Amounts: \t [[0.6 ]\n",
      " [4.05]\n",
      " [0.  ]\n",
      " [2.6 ]\n",
      " [3.9 ]]\n"
     ]
    }
   ],
   "source": [
    "\n",
    "    \n",
    "# Look I used my function from above!  You can define and use functions in JN.\n",
    "printAmounts()\n",
    "# Do you get the same thing as before?"
   ]
  },
  {
   "cell_type": "markdown",
   "metadata": {},
   "source": [
    "### But wait!\n",
    "\n",
    "But then ... we can use matrix multiplicaton for the whole thing.\n",
    "\n",
    "#### --> 9.  Vectorized solution.\n",
    "\n",
    "* Write a single line of code to compute all of the amounts using matrix multiplication.\n",
    "* Write a print statement to print the dimensions of orders and dimensions of the prices tables.\n",
    "\n",
    "The dimensionality analysis is super critical.\n",
    "\n",
    "**Double Click Here for answer**\n",
    "<!--\n",
    "amount = orders @ prices\n",
    "print(\"orders is\", orders.shape, \" Prices is \", prices.shape, \" amount result is\", amount.shape)\n",
    "printAmounts()\n",
    "-->\n"
   ]
  },
  {
   "cell_type": "code",
   "execution_count": 26,
   "metadata": {},
   "outputs": [
    {
     "name": "stdout",
     "output_type": "stream",
     "text": [
      "Shape of orders: (50, 3) and of prices: (3,)\n",
      "Person...\t  1 2 3 4 5\n",
      "Num Bananas: \t [0 1 0 0 2]\n",
      "Num Apples:  \t [0 4 0 1 2]\n",
      "Num Pears:   \t [1 1 0 3 3]\n",
      "Amounts: \t [[0.6 ]\n",
      " [4.05]\n",
      " [0.  ]\n",
      " [2.6 ]\n",
      " [3.9 ]]\n"
     ]
    }
   ],
   "source": [
    "amounts = orders @ prices\n",
    "print(\"Shape of orders:\", orders.shape, \"and of prices:\", prices.shape)\n",
    "printAmounts()"
   ]
  },
  {
   "cell_type": "markdown",
   "metadata": {},
   "source": [
    "## NumPy Sum\n",
    "\n",
    "Now we can sum up the amounts spent by each person, and on each type of fruit.  Note that `np.sum(amount)` is the same as using the `sum` method of the `amount` NumPy Instance:  `amount.sum()`\n",
    "\n",
    "By default, `sum` iterates over the rows.  That's called the **axis** of the sum.  So if you have a 50x3 array of orders, summing over the orders with axis 0 (summing rows) will give you a 1x3 result.  You can specify an axis of 1 and sum over columns, which would give you a 50x1 result.  What would that represent in this case?  \n",
    "\n",
    "#### --> 10.  Summing by rows and columns\n",
    "\n",
    "Part 1:\n",
    "* Change the code below to use `amount.sum()` instead of `np.sum(amount...)`\n",
    "* Calculate a new variable `totalCounts` to get the total number of each kind of fruit.\n",
    "* Use a list comprehension of format strings to print the number of each fruit above.\n",
    "\n",
    "**Double Click Here for answer**\n",
    "<!--\n",
    "# Using amount.sum instead of np.sum(amount) ... note axis=0 is optional.  0 is the default.\n",
    "print(f\"Total spent: {amount.sum(axis=0):0.2f}\")\n",
    "\n",
    "totalCounts = np.sum(orders, axis=0) \n",
    "print(totalCounts, \"bananas, appples, pears\")\n",
    "\n",
    "-->\n"
   ]
  },
  {
   "cell_type": "code",
   "execution_count": 37,
   "metadata": {
    "scrolled": true
   },
   "outputs": [
    {
     "name": "stdout",
     "output_type": "stream",
     "text": [
      "Total spent: 162.50\n",
      "People bought 110 banannas, 87 apples, and 109 pears.\n"
     ]
    }
   ],
   "source": [
    "print(f\"Total spent: {amount.sum():0.2f}\")\n",
    "totalCounts = orders.sum(axis = 0)\n",
    "print(f\"People bought {totalCounts[0]} banannas, {totalCounts[1]} apples, and {totalCounts[2]} pears.\")\n",
    "\n"
   ]
  },
  {
   "cell_type": "markdown",
   "metadata": {},
   "source": [
    "Part 2:\n",
    "* Calculate a new variable `totalFruitsPerPerson` to sum the total number of fruits each person ate. Use axis 1.  Print the first 5 with a list comprehension and a slice of `totalFruitsPerPerson`\n",
    "* Use elementwise multiplication to get the total spent on each type of fruit, `fruitTotals`\n",
    "* Print the `fruitTotals` result.\n",
    "\n",
    "**Double Click Here for answer**\n",
    "<!--\n",
    "totalFruitsPerPerson = orders.sum(axis=1)\n",
    "print( \"First 5 people ate: \", [x for x in totalFruitsPerPerson[0:5]], \" Fruits.\")\n",
    "\n",
    "fruitTotals = totalCounts * prices\n",
    "print(fruitTotals, 'total spent on bananas, apples, pears')\n",
    "# super fancy way:\n",
    "print( \", \".join(map( lambda x,y : f\"{x}: ${y:0.2f}\", ['bananas', 'apples', 'pears'], fruitTotals)) )\n",
    "\n",
    "-->"
   ]
  },
  {
   "cell_type": "code",
   "execution_count": 54,
   "metadata": {
    "scrolled": false
   },
   "outputs": [
    {
     "name": "stdout",
     "output_type": "stream",
     "text": [
      "Person...\t  1 2 3 4 5\n",
      "# of Fruits:\t [1 6 0 4 7]\n",
      "People spent $27.5 on banannas, $69.6 on apples, and $65.4 on pears.\n"
     ]
    }
   ],
   "source": [
    "totalFruitsPerPerson = orders.sum(axis = 1)\n",
    "print(\"Person...\\t  1 2 3 4 5\")\n",
    "print(f\"# of Fruits:\\t {totalFruitsPerPerson[0:5]}\")\n",
    "fruitTotals = totalCounts * prices\n",
    "print(f\"People spent ${round(fruitTotals[0],2)} on banannas, ${round(fruitTotals[1],2)} on apples, and ${round(fruitTotals[2],2)} on pears.\")"
   ]
  },
  {
   "cell_type": "code",
   "execution_count": null,
   "metadata": {},
   "outputs": [],
   "source": []
  }
 ],
 "metadata": {
  "kernelspec": {
   "display_name": "Python 3",
   "language": "python",
   "name": "python3"
  },
  "language_info": {
   "codemirror_mode": {
    "name": "ipython",
    "version": 3
   },
   "file_extension": ".py",
   "mimetype": "text/x-python",
   "name": "python",
   "nbconvert_exporter": "python",
   "pygments_lexer": "ipython3",
   "version": "3.7.4"
  }
 },
 "nbformat": 4,
 "nbformat_minor": 2
}
